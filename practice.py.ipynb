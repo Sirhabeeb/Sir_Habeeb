{
 "cells": [
  {
   "cell_type": "code",
   "execution_count": 1,
   "id": "cbb06be3",
   "metadata": {},
   "outputs": [],
   "source": [
    "import numpy as np\n",
    "import pandas as pd"
   ]
  },
  {
   "cell_type": "code",
   "execution_count": 3,
   "id": "48d8bb40",
   "metadata": {},
   "outputs": [],
   "source": [
    "data = np.array([[21,3,4,67,32,1], [21,6,34,54,64,36]])"
   ]
  },
  {
   "cell_type": "code",
   "execution_count": 4,
   "id": "e95ba653",
   "metadata": {},
   "outputs": [
    {
     "data": {
      "text/plain": [
       "array([[21,  3,  4, 67],\n",
       "       [32,  1, 21,  6],\n",
       "       [34, 54, 64, 36]])"
      ]
     },
     "execution_count": 4,
     "metadata": {},
     "output_type": "execute_result"
    }
   ],
   "source": [
    "data.reshape(3,4)"
   ]
  },
  {
   "cell_type": "code",
   "execution_count": 5,
   "id": "667def01",
   "metadata": {},
   "outputs": [
    {
     "data": {
      "text/plain": [
       "array([[21,  3,  4],\n",
       "       [67, 32,  1],\n",
       "       [21,  6, 34],\n",
       "       [54, 64, 36]])"
      ]
     },
     "execution_count": 5,
     "metadata": {},
     "output_type": "execute_result"
    }
   ],
   "source": [
    "data.reshape(4,3)"
   ]
  },
  {
   "cell_type": "code",
   "execution_count": 6,
   "id": "d3edc8f3",
   "metadata": {},
   "outputs": [],
   "source": [
    "data.resize(3,4)"
   ]
  },
  {
   "cell_type": "code",
   "execution_count": 7,
   "id": "f6b2b40b",
   "metadata": {},
   "outputs": [
    {
     "data": {
      "text/plain": [
       "array([[21,  3,  4, 67],\n",
       "       [32,  1, 21,  6],\n",
       "       [34, 54, 64, 36]])"
      ]
     },
     "execution_count": 7,
     "metadata": {},
     "output_type": "execute_result"
    }
   ],
   "source": [
    "data"
   ]
  },
  {
   "cell_type": "code",
   "execution_count": 9,
   "id": "03276b4a",
   "metadata": {},
   "outputs": [
    {
     "data": {
      "text/plain": [
       "array([21,  3,  4, 67, 32,  1, 21,  6, 34, 54, 64, 36])"
      ]
     },
     "execution_count": 9,
     "metadata": {},
     "output_type": "execute_result"
    }
   ],
   "source": [
    "data.ravel()"
   ]
  },
  {
   "cell_type": "code",
   "execution_count": 10,
   "id": "7b325f04",
   "metadata": {},
   "outputs": [],
   "source": [
    "data1 = np.array([23,45,67,98,12,2])"
   ]
  },
  {
   "cell_type": "code",
   "execution_count": 11,
   "id": "cc184b9c",
   "metadata": {},
   "outputs": [],
   "source": [
    "data2 = np.array([12,43,56,12,21,21])"
   ]
  },
  {
   "cell_type": "code",
   "execution_count": 15,
   "id": "ad41cf0b",
   "metadata": {},
   "outputs": [
    {
     "data": {
      "text/plain": [
       "array([23, 45, 67, 98, 12,  2, 12, 43, 56, 12, 21, 21])"
      ]
     },
     "execution_count": 15,
     "metadata": {},
     "output_type": "execute_result"
    }
   ],
   "source": [
    "np.hstack((data1, data2))"
   ]
  },
  {
   "cell_type": "code",
   "execution_count": 19,
   "id": "cfe950b5",
   "metadata": {},
   "outputs": [
    {
     "data": {
      "text/plain": [
       "[array([[21,  3],\n",
       "        [32,  1],\n",
       "        [34, 54]]),\n",
       " array([[ 4, 67],\n",
       "        [21,  6],\n",
       "        [64, 36]])]"
      ]
     },
     "execution_count": 19,
     "metadata": {},
     "output_type": "execute_result"
    }
   ],
   "source": [
    "np.hsplit(data,2)"
   ]
  },
  {
   "cell_type": "code",
   "execution_count": 20,
   "id": "72eacb42",
   "metadata": {},
   "outputs": [],
   "source": [
    "first_array = np.array([2,3,5,7,8,12])"
   ]
  },
  {
   "cell_type": "code",
   "execution_count": 21,
   "id": "608f10e3",
   "metadata": {},
   "outputs": [
    {
     "data": {
      "text/plain": [
       "array([ 2,  3,  5,  7,  8, 12])"
      ]
     },
     "execution_count": 21,
     "metadata": {},
     "output_type": "execute_result"
    }
   ],
   "source": [
    "first_array"
   ]
  },
  {
   "cell_type": "code",
   "execution_count": 24,
   "id": "bfe781e6",
   "metadata": {},
   "outputs": [
    {
     "data": {
      "text/plain": [
       "array([[ 2,  3],\n",
       "       [ 5,  7],\n",
       "       [ 8, 12]])"
      ]
     },
     "execution_count": 24,
     "metadata": {},
     "output_type": "execute_result"
    }
   ],
   "source": [
    "first_array.reshape(3,2)"
   ]
  },
  {
   "cell_type": "code",
   "execution_count": 26,
   "id": "0714048a",
   "metadata": {},
   "outputs": [],
   "source": [
    "zero_array =np.zeros((3,3))"
   ]
  },
  {
   "cell_type": "code",
   "execution_count": 27,
   "id": "6fae1f15",
   "metadata": {},
   "outputs": [
    {
     "data": {
      "text/plain": [
       "array([[0., 0., 0.],\n",
       "       [0., 0., 0.],\n",
       "       [0., 0., 0.]])"
      ]
     },
     "execution_count": 27,
     "metadata": {},
     "output_type": "execute_result"
    }
   ],
   "source": [
    "zero_array"
   ]
  },
  {
   "cell_type": "code",
   "execution_count": 28,
   "id": "523d6472",
   "metadata": {},
   "outputs": [],
   "source": [
    "one_array = np.ones((4,3))"
   ]
  },
  {
   "cell_type": "code",
   "execution_count": 30,
   "id": "56a767b2",
   "metadata": {},
   "outputs": [
    {
     "name": "stdout",
     "output_type": "stream",
     "text": [
      "[[1. 1. 1.]\n",
      " [1. 1. 1.]\n",
      " [1. 1. 1.]\n",
      " [1. 1. 1.]]\n"
     ]
    }
   ],
   "source": [
    "print(one_array)"
   ]
  },
  {
   "cell_type": "code",
   "execution_count": 31,
   "id": "c5cabb0d",
   "metadata": {},
   "outputs": [
    {
     "data": {
      "text/plain": [
       "array([[1., 1., 1.],\n",
       "       [1., 1., 1.],\n",
       "       [1., 1., 1.],\n",
       "       [1., 1., 1.]])"
      ]
     },
     "execution_count": 31,
     "metadata": {},
     "output_type": "execute_result"
    }
   ],
   "source": [
    "one_array"
   ]
  },
  {
   "cell_type": "code",
   "execution_count": 41,
   "id": "56bff764",
   "metadata": {},
   "outputs": [],
   "source": [
    "arrange_np = np.arange(15)"
   ]
  },
  {
   "cell_type": "code",
   "execution_count": 42,
   "id": "767ab86d",
   "metadata": {},
   "outputs": [
    {
     "name": "stdout",
     "output_type": "stream",
     "text": [
      "[ 0  1  2  3  4  5  6  7  8  9 10 11 12 13 14]\n"
     ]
    }
   ],
   "source": [
    "print(arrange_np)"
   ]
  },
  {
   "cell_type": "code",
   "execution_count": 43,
   "id": "9e8670d9",
   "metadata": {},
   "outputs": [
    {
     "data": {
      "text/plain": [
       "array([[ 0,  1,  2,  3,  4],\n",
       "       [ 5,  6,  7,  8,  9],\n",
       "       [10, 11, 12, 13, 14]])"
      ]
     },
     "execution_count": 43,
     "metadata": {},
     "output_type": "execute_result"
    }
   ],
   "source": [
    "arrange_np.reshape(3,5)"
   ]
  },
  {
   "cell_type": "code",
   "execution_count": 53,
   "id": "449c326f",
   "metadata": {},
   "outputs": [],
   "source": [
    "np_linespace = np.linspace(2,10,5)"
   ]
  },
  {
   "cell_type": "code",
   "execution_count": 54,
   "id": "7b7fa855",
   "metadata": {},
   "outputs": [
    {
     "name": "stdout",
     "output_type": "stream",
     "text": [
      "[ 2.  4.  6.  8. 10.]\n"
     ]
    }
   ],
   "source": [
    "print(np_linespace)"
   ]
  },
  {
   "cell_type": "code",
   "execution_count": 56,
   "id": "42d347ea",
   "metadata": {},
   "outputs": [],
   "source": [
    "dataframe = pd.DataFrame({'Hosting city':['Taiwan','NIgeria','Ghana', 'France'],'Year':[2004,2005,2003,2011], 'Percitipated Country':[201,411,532,162]})"
   ]
  },
  {
   "cell_type": "code",
   "execution_count": 57,
   "id": "05d1ec14",
   "metadata": {},
   "outputs": [
    {
     "data": {
      "text/html": [
       "<div>\n",
       "<style scoped>\n",
       "    .dataframe tbody tr th:only-of-type {\n",
       "        vertical-align: middle;\n",
       "    }\n",
       "\n",
       "    .dataframe tbody tr th {\n",
       "        vertical-align: top;\n",
       "    }\n",
       "\n",
       "    .dataframe thead th {\n",
       "        text-align: right;\n",
       "    }\n",
       "</style>\n",
       "<table border=\"1\" class=\"dataframe\">\n",
       "  <thead>\n",
       "    <tr style=\"text-align: right;\">\n",
       "      <th></th>\n",
       "      <th>Hosting city</th>\n",
       "      <th>Year</th>\n",
       "      <th>Percitipated Country</th>\n",
       "    </tr>\n",
       "  </thead>\n",
       "  <tbody>\n",
       "    <tr>\n",
       "      <th>0</th>\n",
       "      <td>Taiwan</td>\n",
       "      <td>2004</td>\n",
       "      <td>201</td>\n",
       "    </tr>\n",
       "    <tr>\n",
       "      <th>1</th>\n",
       "      <td>NIgeria</td>\n",
       "      <td>2005</td>\n",
       "      <td>411</td>\n",
       "    </tr>\n",
       "    <tr>\n",
       "      <th>2</th>\n",
       "      <td>Ghana</td>\n",
       "      <td>2003</td>\n",
       "      <td>532</td>\n",
       "    </tr>\n",
       "    <tr>\n",
       "      <th>3</th>\n",
       "      <td>France</td>\n",
       "      <td>2011</td>\n",
       "      <td>162</td>\n",
       "    </tr>\n",
       "  </tbody>\n",
       "</table>\n",
       "</div>"
      ],
      "text/plain": [
       "  Hosting city  Year  Percitipated Country\n",
       "0       Taiwan  2004                   201\n",
       "1      NIgeria  2005                   411\n",
       "2        Ghana  2003                   532\n",
       "3       France  2011                   162"
      ]
     },
     "execution_count": 57,
     "metadata": {},
     "output_type": "execute_result"
    }
   ],
   "source": [
    "dataframe"
   ]
  },
  {
   "cell_type": "code",
   "execution_count": 62,
   "id": "9fd15f3e",
   "metadata": {},
   "outputs": [
    {
     "data": {
      "text/html": [
       "<div>\n",
       "<style scoped>\n",
       "    .dataframe tbody tr th:only-of-type {\n",
       "        vertical-align: middle;\n",
       "    }\n",
       "\n",
       "    .dataframe tbody tr th {\n",
       "        vertical-align: top;\n",
       "    }\n",
       "\n",
       "    .dataframe thead th {\n",
       "        text-align: right;\n",
       "    }\n",
       "</style>\n",
       "<table border=\"1\" class=\"dataframe\">\n",
       "  <thead>\n",
       "    <tr style=\"text-align: right;\">\n",
       "      <th></th>\n",
       "      <th>Hosting city</th>\n",
       "      <th>Year</th>\n",
       "      <th>Percitipated Country</th>\n",
       "    </tr>\n",
       "  </thead>\n",
       "  <tbody>\n",
       "    <tr>\n",
       "      <th>a</th>\n",
       "      <td>Taiwan</td>\n",
       "      <td>2004</td>\n",
       "      <td>201</td>\n",
       "    </tr>\n",
       "    <tr>\n",
       "      <th>b</th>\n",
       "      <td>NIgeria</td>\n",
       "      <td>2005</td>\n",
       "      <td>411</td>\n",
       "    </tr>\n",
       "    <tr>\n",
       "      <th>c</th>\n",
       "      <td>Ghana</td>\n",
       "      <td>2003</td>\n",
       "      <td>532</td>\n",
       "    </tr>\n",
       "    <tr>\n",
       "      <th>d</th>\n",
       "      <td>France</td>\n",
       "      <td>2011</td>\n",
       "      <td>162</td>\n",
       "    </tr>\n",
       "  </tbody>\n",
       "</table>\n",
       "</div>"
      ],
      "text/plain": [
       "  Hosting city  Year  Percitipated Country\n",
       "a       Taiwan  2004                   201\n",
       "b      NIgeria  2005                   411\n",
       "c        Ghana  2003                   532\n",
       "d       France  2011                   162"
      ]
     },
     "execution_count": 62,
     "metadata": {},
     "output_type": "execute_result"
    }
   ],
   "source": [
    "dataframe.rename(index={0:'a',1:'b',2:'c',3:'d'})"
   ]
  },
  {
   "cell_type": "code",
   "execution_count": null,
   "id": "c9475c78",
   "metadata": {},
   "outputs": [],
   "source": []
  }
 ],
 "metadata": {
  "kernelspec": {
   "display_name": "Python 3 (ipykernel)",
   "language": "python",
   "name": "python3"
  },
  "language_info": {
   "codemirror_mode": {
    "name": "ipython",
    "version": 3
   },
   "file_extension": ".py",
   "mimetype": "text/x-python",
   "name": "python",
   "nbconvert_exporter": "python",
   "pygments_lexer": "ipython3",
   "version": "3.9.12"
  }
 },
 "nbformat": 4,
 "nbformat_minor": 5
}
