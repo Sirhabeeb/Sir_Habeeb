{
 "cells": [
  {
   "cell_type": "code",
   "execution_count": 3,
   "id": "bdeddb49",
   "metadata": {},
   "outputs": [],
   "source": [
    "import pandas as pd\n",
    "import numpy as np\n",
    "from sklearn.linear_model import LinearRegression\n",
    "from sklearn.preprocessing import StandardScaler\n",
    "from sklearn.model_selection import train_test_split"
   ]
  },
  {
   "cell_type": "code",
   "execution_count": 5,
   "id": "1f7a8369",
   "metadata": {},
   "outputs": [],
   "source": [
    "#generating a data to split\n",
    "data = np.arange(1,101)"
   ]
  },
  {
   "cell_type": "code",
   "execution_count": 6,
   "id": "28e4e585",
   "metadata": {},
   "outputs": [
    {
     "data": {
      "text/plain": [
       "array([  1,   2,   3,   4,   5,   6,   7,   8,   9,  10,  11,  12,  13,\n",
       "        14,  15,  16,  17,  18,  19,  20,  21,  22,  23,  24,  25,  26,\n",
       "        27,  28,  29,  30,  31,  32,  33,  34,  35,  36,  37,  38,  39,\n",
       "        40,  41,  42,  43,  44,  45,  46,  47,  48,  49,  50,  51,  52,\n",
       "        53,  54,  55,  56,  57,  58,  59,  60,  61,  62,  63,  64,  65,\n",
       "        66,  67,  68,  69,  70,  71,  72,  73,  74,  75,  76,  77,  78,\n",
       "        79,  80,  81,  82,  83,  84,  85,  86,  87,  88,  89,  90,  91,\n",
       "        92,  93,  94,  95,  96,  97,  98,  99, 100])"
      ]
     },
     "execution_count": 6,
     "metadata": {},
     "output_type": "execute_result"
    }
   ],
   "source": [
    "data"
   ]
  },
  {
   "cell_type": "code",
   "execution_count": 7,
   "id": "ee5b0c86",
   "metadata": {},
   "outputs": [],
   "source": [
    "data_b =np.arange(501,601)"
   ]
  },
  {
   "cell_type": "code",
   "execution_count": 8,
   "id": "2a6d9eaa",
   "metadata": {},
   "outputs": [
    {
     "data": {
      "text/plain": [
       "array([501, 502, 503, 504, 505, 506, 507, 508, 509, 510, 511, 512, 513,\n",
       "       514, 515, 516, 517, 518, 519, 520, 521, 522, 523, 524, 525, 526,\n",
       "       527, 528, 529, 530, 531, 532, 533, 534, 535, 536, 537, 538, 539,\n",
       "       540, 541, 542, 543, 544, 545, 546, 547, 548, 549, 550, 551, 552,\n",
       "       553, 554, 555, 556, 557, 558, 559, 560, 561, 562, 563, 564, 565,\n",
       "       566, 567, 568, 569, 570, 571, 572, 573, 574, 575, 576, 577, 578,\n",
       "       579, 580, 581, 582, 583, 584, 585, 586, 587, 588, 589, 590, 591,\n",
       "       592, 593, 594, 595, 596, 597, 598, 599, 600])"
      ]
     },
     "execution_count": 8,
     "metadata": {},
     "output_type": "execute_result"
    }
   ],
   "source": [
    "data_b"
   ]
  },
  {
   "cell_type": "code",
   "execution_count": 9,
   "id": "f5e5fac7",
   "metadata": {},
   "outputs": [
    {
     "data": {
      "text/plain": [
       "[array([ 61,  99,  26,  32,  68,  58,  23,  59,  27,  47,  63,  17,  12,\n",
       "         87,  20,   6,  78,  14,  57,  65,  29,  60,  15,  73,  40,  90,\n",
       "          8,  49,  42,  22,  51,  75,  66,  45,  69,  89,  31,  77,   2,\n",
       "         24,  56,  41,  83,  10,  93,  80,  55,  88,  86,  16,  64,  33,\n",
       "         96,  53,  54,  72,  85,  52,  97,  92,  19,  48,  98,  91,  81,\n",
       "         21,  39,  28,  35, 100,   5,  36,  46,  82,  67]),\n",
       " array([25,  9, 94, 71, 37, 76, 38, 84,  7, 18, 11, 50,  3, 79,  4, 13, 95,\n",
       "         1, 44, 30, 62, 74, 70, 43, 34])]"
      ]
     },
     "execution_count": 9,
     "metadata": {},
     "output_type": "execute_result"
    }
   ],
   "source": [
    "train_test_split(data)"
   ]
  },
  {
   "cell_type": "code",
   "execution_count": 10,
   "id": "f848e850",
   "metadata": {},
   "outputs": [],
   "source": [
    "data_1, data_2 = train_test_split(data)"
   ]
  },
  {
   "cell_type": "code",
   "execution_count": 11,
   "id": "85740fc3",
   "metadata": {},
   "outputs": [
    {
     "data": {
      "text/plain": [
       "array([  8,  88,  87,  86,  90,  68,  11,  67,  34,  17,   7,  81,  35,\n",
       "        83,  95,  94,  46,   2,  48,   6,  42,  93,  72,  40,  96,   5,\n",
       "        76,  64,  75,  18,  25,  91,  58,  32,  13,  24,  28,  44,  29,\n",
       "        89,   4,  37,  33,  69,  41,  26,  38,  47,  98,  84,  39,  52,\n",
       "        57,  54,  36,  55,  92,  45,   1,  23,  97,  30,  66,   3,  53,\n",
       "       100,  19,  60,  71,  78,  14,  50,  79,  99,  43])"
      ]
     },
     "execution_count": 11,
     "metadata": {},
     "output_type": "execute_result"
    }
   ],
   "source": [
    "data_1"
   ]
  },
  {
   "cell_type": "code",
   "execution_count": 12,
   "id": "3667ae4e",
   "metadata": {},
   "outputs": [
    {
     "data": {
      "text/plain": [
       "array([80, 77, 10, 16, 49, 27, 70, 56, 59, 21, 63, 31, 82, 74, 85, 51,  9,\n",
       "       61, 62, 20, 73, 65, 12, 22, 15])"
      ]
     },
     "execution_count": 12,
     "metadata": {},
     "output_type": "execute_result"
    }
   ],
   "source": [
    "data_2"
   ]
  },
  {
   "cell_type": "code",
   "execution_count": 13,
   "id": "1e45589c",
   "metadata": {},
   "outputs": [
    {
     "data": {
      "text/plain": [
       "[array([530, 509, 585, 595, 562, 503, 536, 555, 532, 568, 547, 552, 516,\n",
       "        541, 567, 560, 571, 592, 593, 520, 502, 565, 505, 550, 590, 589,\n",
       "        594, 537, 561, 521, 518, 559, 513, 580, 540, 508, 527, 586, 539,\n",
       "        569, 525, 545, 587, 548, 529, 535, 570, 544, 524, 583, 598, 512,\n",
       "        523, 526, 582, 578, 573, 514, 564, 556, 546, 553, 542, 534, 566,\n",
       "        599, 543, 581, 600, 575, 510, 511, 591, 519, 596]),\n",
       " array([554, 557, 533, 577, 563, 588, 522, 549, 501, 597, 579, 538, 506,\n",
       "        515, 572, 517, 558, 528, 574, 576, 507, 531, 551, 584, 504])]"
      ]
     },
     "execution_count": 13,
     "metadata": {},
     "output_type": "execute_result"
    }
   ],
   "source": [
    "train_test_split(data_b)"
   ]
  },
  {
   "cell_type": "code",
   "execution_count": 62,
   "id": "9a34b72a",
   "metadata": {},
   "outputs": [],
   "source": [
    "data_b1, data_b2 = train_test_split(data_b, test_size = 0.4, random_state = 360)"
   ]
  },
  {
   "cell_type": "code",
   "execution_count": 67,
   "id": "28fe4220",
   "metadata": {},
   "outputs": [
    {
     "data": {
      "text/plain": [
       "array([521, 536, 533, 557, 512, 547, 582, 552, 501, 584, 594, 580, 546,\n",
       "       511, 538, 548, 525, 503, 593, 551, 543, 532, 540, 523, 542, 545,\n",
       "       524, 505, 519, 510, 517, 514, 569, 575, 591, 579, 573, 564, 522,\n",
       "       576, 583, 587, 530, 541, 571, 581, 566, 553, 556, 554, 506, 520,\n",
       "       592, 507, 535, 509, 567, 561, 562, 565])"
      ]
     },
     "execution_count": 67,
     "metadata": {},
     "output_type": "execute_result"
    }
   ],
   "source": [
    "data_b1"
   ]
  },
  {
   "cell_type": "code",
   "execution_count": 68,
   "id": "d3dad060",
   "metadata": {},
   "outputs": [
    {
     "data": {
      "text/plain": [
       "array([572, 528, 600, 560, 516, 527, 508, 585, 502, 568, 529, 513, 549,\n",
       "       544, 518, 558, 595, 574, 531, 596, 590, 586, 598, 534, 563, 537,\n",
       "       515, 570, 588, 577, 599, 578, 550, 539, 597, 589, 504, 555, 559,\n",
       "       526])"
      ]
     },
     "execution_count": 68,
     "metadata": {},
     "output_type": "execute_result"
    }
   ],
   "source": [
    "data_b2"
   ]
  },
  {
   "cell_type": "code",
   "execution_count": 33,
   "id": "3be01a8d",
   "metadata": {},
   "outputs": [
    {
     "data": {
      "text/plain": [
       "((60,), (40,))"
      ]
     },
     "execution_count": 33,
     "metadata": {},
     "output_type": "execute_result"
    }
   ],
   "source": [
    "data_b1.shape, data_b2.shape"
   ]
  },
  {
   "cell_type": "code",
   "execution_count": null,
   "id": "d137dc50",
   "metadata": {},
   "outputs": [],
   "source": []
  }
 ],
 "metadata": {
  "kernelspec": {
   "display_name": "Python 3 (ipykernel)",
   "language": "python",
   "name": "python3"
  },
  "language_info": {
   "codemirror_mode": {
    "name": "ipython",
    "version": 3
   },
   "file_extension": ".py",
   "mimetype": "text/x-python",
   "name": "python",
   "nbconvert_exporter": "python",
   "pygments_lexer": "ipython3",
   "version": "3.9.12"
  }
 },
 "nbformat": 4,
 "nbformat_minor": 5
}
